{
 "cells": [
  {
   "cell_type": "code",
   "execution_count": 2,
   "metadata": {},
   "outputs": [],
   "source": [
    "import sqlalchemy"
   ]
  },
  {
   "cell_type": "code",
   "execution_count": 3,
   "metadata": {},
   "outputs": [],
   "source": [
    "from sqlalchemy import Column, Integer, Text, create_engine, Table, MetaData, String, ForeignKey\n",
    "from sqlalchemy.ext.declarative import declarative_base\n",
    "from sqlalchemy.orm import sessionmaker, mapper, relationship\n",
    "\n",
    "engine = create_engine('sqlite:///homework.db')\n",
    "Session = sessionmaker()\n",
    "Base = declarative_base(bind=engine)\n",
    "\n",
    "metadata = MetaData()\n",
    "\n",
    "class User (Base):\n",
    "    __tablename__ = 'user'\n",
    "    id = Column(Integer, primary_key=True)\n",
    "    country = Column(Text)\n",
    "    capital = Column(Text)\n",
    "    \n",
    "    \n",
    "    def __repr__(self):\n",
    "        return '({} [{}] )'.format(self.country, self.capital)\n",
    "    \n",
    "class Address(Base):\n",
    "    __tablename__ = 'address'\n",
    "\n",
    "    id = Column(Integer, primary_key=True)\n",
    "    things = Column(String, nullable=False)\n",
    "    country_id = Column(Integer, ForeignKey('user.id'))\n",
    "\n",
    "    user = relationship(\"User\", backref=\"addresses\")\n",
    "\n",
    "    def __repr__(self):\n",
    "        return \"<Address(%r)>\" % self.things\n"
   ]
  },
  {
   "cell_type": "code",
   "execution_count": 4,
   "metadata": {},
   "outputs": [],
   "source": [
    "Base.metadata.create_all(engine)"
   ]
  },
  {
   "cell_type": "code",
   "execution_count": null,
   "metadata": {},
   "outputs": [],
   "source": []
  }
 ],
 "metadata": {
  "kernelspec": {
   "display_name": "Python 3",
   "language": "python",
   "name": "python3"
  },
  "language_info": {
   "codemirror_mode": {
    "name": "ipython",
    "version": 3
   },
   "file_extension": ".py",
   "mimetype": "text/x-python",
   "name": "python",
   "nbconvert_exporter": "python",
   "pygments_lexer": "ipython3",
   "version": "3.6.5"
  }
 },
 "nbformat": 4,
 "nbformat_minor": 2
}
